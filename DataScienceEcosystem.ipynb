{
 "cells": [
  {
   "cell_type": "markdown",
   "id": "9b1f9abd-132a-4e10-bcd8-e30ef2a926e6",
   "metadata": {},
   "source": [
    "# Data Science Tools and Ecosystem"
   ]
  },
  {
   "cell_type": "markdown",
   "id": "612d489d-1783-471b-93ee-ba2b8174faf5",
   "metadata": {},
   "source": [
    "In this notebook, Data Science Tools and Ecosystem are summarized"
   ]
  },
  {
   "cell_type": "markdown",
   "id": "c499507b-fcb5-4fd3-9e6a-b9525aea1da4",
   "metadata": {},
   "source": [
    "Some of the popular languages that Data Scientists use are:\n",
    "1. Python\n",
    "2. R\n",
    "3. SQL\n",
    "4. Java\n",
    "5. Julia\n",
    "6. Scala"
   ]
  },
  {
   "cell_type": "markdown",
   "id": "b7bdb0a8-5550-4a59-8ffa-e270e7b8d164",
   "metadata": {},
   "source": [
    "Some of the commonly used libraries used by Data Scientists are:\n",
    "1. Matplotlib\n",
    "2. Pandas\n",
    "3. TensorFlow\n",
    "4. Scikit-Learn\n",
    "5. Plotly\n",
    "6. NumPy"
   ]
  },
  {
   "cell_type": "markdown",
   "id": "ccf721fa-30fa-4cde-84f5-82e191883f08",
   "metadata": {},
   "source": [
    "| Data Science Tools|\n",
    "| ------------------- |\n",
    "| RStudio |\n",
    "| JupyterLab |\n",
    "| VS Code |"
   ]
  },
  {
   "cell_type": "markdown",
   "id": "fcd6eb7b-860b-4551-91e0-1b11b5fd7c05",
   "metadata": {},
   "source": [
    "### Below are a few examples of evaluating arithmetic expressions in Python"
   ]
  },
  {
   "cell_type": "code",
   "execution_count": 1,
   "id": "f830675c-19d0-4021-974e-5a1c4f353018",
   "metadata": {},
   "outputs": [
    {
     "data": {
      "text/plain": [
       "17"
      ]
     },
     "execution_count": 1,
     "metadata": {},
     "output_type": "execute_result"
    }
   ],
   "source": [
    "#This is a simple arithmetic expression to multiply and then add integers\n",
    "(3*4)+5"
   ]
  },
  {
   "cell_type": "code",
   "execution_count": 2,
   "id": "b1ea986f-e143-4279-a998-8716418b95c9",
   "metadata": {},
   "outputs": [
    {
     "data": {
      "text/plain": [
       "3.3333333333333335"
      ]
     },
     "execution_count": 2,
     "metadata": {},
     "output_type": "execute_result"
    }
   ],
   "source": [
    "#This will convert 200 minutes to hours by dividing by 60\n",
    "200/60"
   ]
  },
  {
   "cell_type": "markdown",
   "id": "37d76fd8-a3b7-4a35-9b29-12fa51727304",
   "metadata": {},
   "source": [
    "**Objectives**\n",
    "+ List popular tools for Data Science\n",
    "+ List popular libraries for Data Science\n",
    "+ List popular languages for Data Science\n",
    "+ Demonstrate arithmetic evaluation with Python"
   ]
  },
  {
   "cell_type": "markdown",
   "id": "1a36c8bd-fe06-4ba2-acf6-b7307ec4a3d1",
   "metadata": {},
   "source": [
    "## Author\n",
    "Maia Cruse"
   ]
  },
  {
   "cell_type": "code",
   "execution_count": null,
   "id": "e074e5ac-099d-4bac-97aa-6a06c1302a17",
   "metadata": {},
   "outputs": [],
   "source": []
  }
 ],
 "metadata": {
  "kernelspec": {
   "display_name": "Python 3 (ipykernel)",
   "language": "python",
   "name": "python3"
  },
  "language_info": {
   "codemirror_mode": {
    "name": "ipython",
    "version": 3
   },
   "file_extension": ".py",
   "mimetype": "text/x-python",
   "name": "python",
   "nbconvert_exporter": "python",
   "pygments_lexer": "ipython3",
   "version": "3.12.8"
  }
 },
 "nbformat": 4,
 "nbformat_minor": 5
}
